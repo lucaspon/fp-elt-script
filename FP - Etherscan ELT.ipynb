{
  "cells": [
    {
      "cell_type": "markdown",
      "metadata": {
        "id": "Pw0fBt1dR8wR"
      },
      "source": [
        "# Fingerprints DB ELT Script"
      ]
    },
    {
      "cell_type": "code",
      "execution_count": 10,
      "metadata": {
        "id": "YnTUZ36GH5d2"
      },
      "outputs": [],
      "source": [
        "import json\n",
        "import os\n",
        "import pandas as pd\n",
        "import psycopg2\n",
        "import requests\n",
        "from dotenv import load_dotenv\n",
        "from sqlalchemy import create_engine\n",
        "\n",
        "pd.set_option('display.max_rows', 150)"
      ]
    },
    {
      "cell_type": "markdown",
      "metadata": {},
      "source": [
        "# Input Addresses and Desired Data"
      ]
    },
    {
      "cell_type": "code",
      "execution_count": 11,
      "metadata": {},
      "outputs": [],
      "source": [
        "# add relevant addresses below\n",
        "addresses = {}\n",
        "\n",
        "addresses['FP Main'] = '0xbc49de68bcbd164574847a7ced47e7475179c76b'\n",
        "addresses['FP OPEX'] = '0xc9044dd6162106edb5ece3af8a8e8b657b612e42'\n",
        "addresses['FP Treasury'] = '0xB28B71C694F53C7CfEA8dffDC85733237e0C981e'\n",
        "addresses['HW PRINTS Streaming'] = '0x447709f203e5131e05386c5846ef821a902c3f81'\n",
        "# addresses['HW Phase3'] = '0x45e77e6473676ab30ed64f3815fea7847d02d7b8'\n",
        "# addresses['HW Compensation'] = '0x7af805dcd0c18ed276f99d83197fe7a9d37b3c54'\n",
        "# addresses['HW Panels Competition'] = '0xf358e6b648579Bc43042B3cc7661dD5309EB06b3'\n",
        "# addresses['HW Avid Lines'] = '0x75a5B40075bc35bcD09f9d1f7d9c39Efd82B401c'\n",
        "# addresses['HW Early Operations'] = '0x0c41409b8e024b762f07b13da602409be37ac4d5'\n",
        "\n",
        "\n",
        "# don't mess with txtypes!\n",
        "txtypes = {}\n",
        "\n",
        "txtypes['normal'] = 'txlist'\n",
        "txtypes['erc20'] = 'tokentx'\n",
        "txtypes['nfts'] = 'tokennfttx'\n",
        "txtypes['internal'] = 'txlistinternal'\n",
        "txtypes['balance'] = 'balance'\n"
      ]
    },
    {
      "cell_type": "markdown",
      "metadata": {},
      "source": [
        "# Get Last Block from Database"
      ]
    },
    {
      "cell_type": "code",
      "execution_count": 12,
      "metadata": {},
      "outputs": [
        {
          "name": "stdout",
          "output_type": "stream",
          "text": [
            "2022-10-17 15:23:28,240 INFO sqlalchemy.engine.Engine select pg_catalog.version()\n",
            "2022-10-17 15:23:28,241 INFO sqlalchemy.engine.Engine [raw sql] {}\n",
            "2022-10-17 15:23:28,531 INFO sqlalchemy.engine.Engine select current_schema()\n",
            "2022-10-17 15:23:28,531 INFO sqlalchemy.engine.Engine [raw sql] {}\n",
            "2022-10-17 15:23:28,843 INFO sqlalchemy.engine.Engine show standard_conforming_strings\n",
            "2022-10-17 15:23:28,844 INFO sqlalchemy.engine.Engine [raw sql] {}\n",
            "2022-10-17 15:23:29,135 INFO sqlalchemy.engine.Engine select max(\"blockNumber\")+1 as block_number from financials.normal where \"from\" = lower('0xbc49de68bcbd164574847a7ced47e7475179c76b') or \"to\" = lower('0xbc49de68bcbd164574847a7ced47e7475179c76b');\n",
            "2022-10-17 15:23:29,136 INFO sqlalchemy.engine.Engine [raw sql] {}\n",
            "2022-10-17 15:23:29,631 INFO sqlalchemy.engine.Engine select max(\"blockNumber\")+1 as block_number from financials.normal where \"from\" = lower('0xc9044dd6162106edb5ece3af8a8e8b657b612e42') or \"to\" = lower('0xc9044dd6162106edb5ece3af8a8e8b657b612e42');\n",
            "2022-10-17 15:23:29,632 INFO sqlalchemy.engine.Engine [raw sql] {}\n",
            "2022-10-17 15:23:30,064 INFO sqlalchemy.engine.Engine select max(\"blockNumber\")+1 as block_number from financials.normal where \"from\" = lower('0xB28B71C694F53C7CfEA8dffDC85733237e0C981e') or \"to\" = lower('0xB28B71C694F53C7CfEA8dffDC85733237e0C981e');\n",
            "2022-10-17 15:23:30,064 INFO sqlalchemy.engine.Engine [raw sql] {}\n",
            "2022-10-17 15:23:30,495 INFO sqlalchemy.engine.Engine select max(\"blockNumber\")+1 as block_number from financials.normal where \"from\" = lower('0x447709f203e5131e05386c5846ef821a902c3f81') or \"to\" = lower('0x447709f203e5131e05386c5846ef821a902c3f81');\n",
            "2022-10-17 15:23:30,496 INFO sqlalchemy.engine.Engine [raw sql] {}\n",
            "2022-10-17 15:23:30,967 INFO sqlalchemy.engine.Engine select max(\"blockNumber\")+1 as block_number from financials.erc20 where \"from\" = lower('0xbc49de68bcbd164574847a7ced47e7475179c76b') or \"to\" = lower('0xbc49de68bcbd164574847a7ced47e7475179c76b');\n",
            "2022-10-17 15:23:30,968 INFO sqlalchemy.engine.Engine [raw sql] {}\n",
            "2022-10-17 15:23:31,415 INFO sqlalchemy.engine.Engine select max(\"blockNumber\")+1 as block_number from financials.erc20 where \"from\" = lower('0xc9044dd6162106edb5ece3af8a8e8b657b612e42') or \"to\" = lower('0xc9044dd6162106edb5ece3af8a8e8b657b612e42');\n",
            "2022-10-17 15:23:31,416 INFO sqlalchemy.engine.Engine [raw sql] {}\n",
            "2022-10-17 15:23:31,868 INFO sqlalchemy.engine.Engine select max(\"blockNumber\")+1 as block_number from financials.erc20 where \"from\" = lower('0xB28B71C694F53C7CfEA8dffDC85733237e0C981e') or \"to\" = lower('0xB28B71C694F53C7CfEA8dffDC85733237e0C981e');\n",
            "2022-10-17 15:23:31,868 INFO sqlalchemy.engine.Engine [raw sql] {}\n",
            "2022-10-17 15:23:32,609 INFO sqlalchemy.engine.Engine select max(\"blockNumber\")+1 as block_number from financials.erc20 where \"from\" = lower('0x447709f203e5131e05386c5846ef821a902c3f81') or \"to\" = lower('0x447709f203e5131e05386c5846ef821a902c3f81');\n",
            "2022-10-17 15:23:32,610 INFO sqlalchemy.engine.Engine [raw sql] {}\n",
            "2022-10-17 15:23:33,050 INFO sqlalchemy.engine.Engine select max(\"blockNumber\")+1 as block_number from financials.nfts where \"from\" = lower('0xbc49de68bcbd164574847a7ced47e7475179c76b') or \"to\" = lower('0xbc49de68bcbd164574847a7ced47e7475179c76b');\n",
            "2022-10-17 15:23:33,050 INFO sqlalchemy.engine.Engine [raw sql] {}\n",
            "2022-10-17 15:23:33,496 INFO sqlalchemy.engine.Engine select max(\"blockNumber\")+1 as block_number from financials.nfts where \"from\" = lower('0xc9044dd6162106edb5ece3af8a8e8b657b612e42') or \"to\" = lower('0xc9044dd6162106edb5ece3af8a8e8b657b612e42');\n",
            "2022-10-17 15:23:33,496 INFO sqlalchemy.engine.Engine [raw sql] {}\n",
            "2022-10-17 15:23:33,928 INFO sqlalchemy.engine.Engine select max(\"blockNumber\")+1 as block_number from financials.nfts where \"from\" = lower('0xB28B71C694F53C7CfEA8dffDC85733237e0C981e') or \"to\" = lower('0xB28B71C694F53C7CfEA8dffDC85733237e0C981e');\n",
            "2022-10-17 15:23:33,929 INFO sqlalchemy.engine.Engine [raw sql] {}\n",
            "2022-10-17 15:23:34,367 INFO sqlalchemy.engine.Engine select max(\"blockNumber\")+1 as block_number from financials.nfts where \"from\" = lower('0x447709f203e5131e05386c5846ef821a902c3f81') or \"to\" = lower('0x447709f203e5131e05386c5846ef821a902c3f81');\n",
            "2022-10-17 15:23:34,367 INFO sqlalchemy.engine.Engine [raw sql] {}\n",
            "2022-10-17 15:23:34,797 INFO sqlalchemy.engine.Engine select max(\"blockNumber\")+1 as block_number from financials.internal where \"from\" = lower('0xbc49de68bcbd164574847a7ced47e7475179c76b') or \"to\" = lower('0xbc49de68bcbd164574847a7ced47e7475179c76b');\n",
            "2022-10-17 15:23:34,798 INFO sqlalchemy.engine.Engine [raw sql] {}\n",
            "2022-10-17 15:23:35,256 INFO sqlalchemy.engine.Engine select max(\"blockNumber\")+1 as block_number from financials.internal where \"from\" = lower('0xc9044dd6162106edb5ece3af8a8e8b657b612e42') or \"to\" = lower('0xc9044dd6162106edb5ece3af8a8e8b657b612e42');\n",
            "2022-10-17 15:23:35,257 INFO sqlalchemy.engine.Engine [raw sql] {}\n",
            "2022-10-17 15:23:35,699 INFO sqlalchemy.engine.Engine select max(\"blockNumber\")+1 as block_number from financials.internal where \"from\" = lower('0xB28B71C694F53C7CfEA8dffDC85733237e0C981e') or \"to\" = lower('0xB28B71C694F53C7CfEA8dffDC85733237e0C981e');\n",
            "2022-10-17 15:23:35,700 INFO sqlalchemy.engine.Engine [raw sql] {}\n",
            "2022-10-17 15:23:36,149 INFO sqlalchemy.engine.Engine select max(\"blockNumber\")+1 as block_number from financials.internal where \"from\" = lower('0x447709f203e5131e05386c5846ef821a902c3f81') or \"to\" = lower('0x447709f203e5131e05386c5846ef821a902c3f81');\n",
            "2022-10-17 15:23:36,149 INFO sqlalchemy.engine.Engine [raw sql] {}\n"
          ]
        },
        {
          "data": {
            "text/plain": [
              "{'normal': {'0xbc49de68bcbd164574847a7ced47e7475179c76b': 15045187,\n",
              "  '0xc9044dd6162106edb5ece3af8a8e8b657b612e42': 15741392,\n",
              "  '0xB28B71C694F53C7CfEA8dffDC85733237e0C981e': 15754276,\n",
              "  '0x447709f203e5131e05386c5846ef821a902c3f81': None},\n",
              " 'erc20': {'0xbc49de68bcbd164574847a7ced47e7475179c76b': 15675663,\n",
              "  '0xc9044dd6162106edb5ece3af8a8e8b657b612e42': 15741392,\n",
              "  '0xB28B71C694F53C7CfEA8dffDC85733237e0C981e': 15677209,\n",
              "  '0x447709f203e5131e05386c5846ef821a902c3f81': None},\n",
              " 'nfts': {'0xbc49de68bcbd164574847a7ced47e7475179c76b': 15657479,\n",
              "  '0xc9044dd6162106edb5ece3af8a8e8b657b612e42': None,\n",
              "  '0xB28B71C694F53C7CfEA8dffDC85733237e0C981e': None,\n",
              "  '0x447709f203e5131e05386c5846ef821a902c3f81': None},\n",
              " 'internal': {'0xbc49de68bcbd164574847a7ced47e7475179c76b': 15444279,\n",
              "  '0xc9044dd6162106edb5ece3af8a8e8b657b612e42': 15444259,\n",
              "  '0xB28B71C694F53C7CfEA8dffDC85733237e0C981e': 15754276,\n",
              "  '0x447709f203e5131e05386c5846ef821a902c3f81': None},\n",
              " 'balance': {}}"
            ]
          },
          "execution_count": 12,
          "metadata": {},
          "output_type": "execute_result"
        }
      ],
      "source": [
        "load_dotenv('.env')\n",
        "DB_CREDS = os.environ.get('DB_CREDS')\n",
        "engine = create_engine(DB_CREDS, echo=True)\n",
        "\n",
        "\n",
        "# get last block by txtype for each address from database\n",
        "sql = {}\n",
        "last_blocks = {}\n",
        "for txtype in txtypes:\n",
        "    sql[txtype] = {}\n",
        "    last_blocks[txtype] = {}\n",
        "    if txtype != 'balance':\n",
        "        for address in addresses.values():\n",
        "            sql[txtype][address] = f\"select max(\\\"blockNumber\\\")+1 as block_number from financials.{txtype} where \\\"from\\\" = lower('{address}') or \\\"to\\\" = lower('{address}');\"\n",
        "            last_blocks[txtype][address] = pd.read_sql_query(sql[txtype][address], con=engine).iloc[0]['block_number']\n",
        "\n",
        "last_blocks"
      ]
    },
    {
      "cell_type": "markdown",
      "metadata": {
        "id": "Bm7hr_izKTxQ"
      },
      "source": [
        "# Requests - Transactions"
      ]
    },
    {
      "cell_type": "code",
      "execution_count": 13,
      "metadata": {
        "colab": {
          "base_uri": "https://localhost:8080/",
          "height": 421
        },
        "id": "DVQL0VNFIBQ3",
        "outputId": "bee82b31-11fd-40ac-8432-6c5d7b4df8e4"
      },
      "outputs": [],
      "source": [
        "ETHERSCAN_APIKEY = os.environ.get('ETHERSCAN_APIKEY')\n",
        "\n",
        "dfs = {}\n",
        "merge = []\n",
        "# get data from etherscan api\n",
        "for txtype in txtypes:\n",
        "    for address in addresses.values():\n",
        "        if txtype == 'balance': # if querying for balance, different payload\n",
        "            payload = {\n",
        "                'module': 'account',\n",
        "                'action': txtypes[txtype],\n",
        "                'address': address,\n",
        "                'tag': 'latest',\n",
        "                'apikey': ETHERSCAN_APIKEY\n",
        "            }\n",
        "            r = requests.get('https://api.etherscan.io/api', params=payload)\n",
        "            response = json.loads(r.text)['result']\n",
        "            merge.append(pd.DataFrame([{'address': address, 'balance': response}]))\n",
        "        else:\n",
        "            if last_blocks[txtype][address] == None: # if address is new, start block = 0\n",
        "                payload = {\n",
        "                    'module': 'account',\n",
        "                    'action': txtypes[txtype],\n",
        "                    'address': address,\n",
        "                    'startblock': '0',\n",
        "                    'endblock': '999999999',\n",
        "                    'sort': 'asc',\n",
        "                    'apikey': ETHERSCAN_APIKEY\n",
        "                }\n",
        "            else: # else, use last block from database\n",
        "                payload = {\n",
        "                    'module': 'account',\n",
        "                    'action': txtypes[txtype],\n",
        "                    'address': address,\n",
        "                    'startblock': last_blocks[txtype][address],\n",
        "                    'endblock': '999999999',\n",
        "                    'sort': 'asc',\n",
        "                    'apikey': ETHERSCAN_APIKEY\n",
        "                }\n",
        "            r = requests.get('https://api.etherscan.io/api', params=payload)\n",
        "            response = json.loads(r.text)['result']\n",
        "            merge.append(pd.DataFrame.from_dict(response))\n",
        "            \n",
        "\n",
        "    dfs[txtype] = pd.concat(merge) # store all merged data in a df\n",
        "    dfs[txtype] = dfs[txtype].drop_duplicates() # remove duplicates (txs between our own wallets)\n",
        "    merge = [] # reset merge array to store new txtype data\n"
      ]
    },
    {
      "cell_type": "markdown",
      "metadata": {},
      "source": [
        "# Save to CSVs"
      ]
    },
    {
      "cell_type": "code",
      "execution_count": 14,
      "metadata": {},
      "outputs": [],
      "source": [
        "# ----------------------------------------------------------------------------------------\n",
        "# export data to CSVs\n",
        "for df in dfs:\n",
        "    dfs[df].to_csv('outputs/' + df + '.csv', index=False)\n",
        "\n",
        "addressdf = pd.DataFrame({'name': addresses.keys(),'address': addresses.values()})\n",
        "addressdf.to_csv('outputs/addresses.csv', index=False)\n",
        "# ----------------------------------------------------------------------------------------"
      ]
    },
    {
      "cell_type": "markdown",
      "metadata": {},
      "source": [
        "# Send Data to Database"
      ]
    },
    {
      "cell_type": "code",
      "execution_count": 15,
      "metadata": {},
      "outputs": [
        {
          "name": "stdout",
          "output_type": "stream",
          "text": [
            "New records:\n",
            "-- normal - 15\n",
            "-- erc20 - 18\n",
            "-- nfts - 0\n",
            "-- internal - 2\n",
            "-- balance - 4\n",
            "Uploading data to database...\n",
            "Data succesfully uploaded.\n",
            "Data succesfully uploaded.\n",
            "Data succesfully uploaded.\n",
            "Data succesfully uploaded.\n",
            "Data succesfully uploaded.\n"
          ]
        }
      ],
      "source": [
        "import psycopg2.extras as extras\n",
        "\n",
        "# calculate how many rows of new data are to be inserted\n",
        "print('New records:')\n",
        "for df in dfs:\n",
        "    data_check = 0\n",
        "    data_check += len(dfs[df].index)\n",
        "    print('-- ' + df + ' - ' + str(len(dfs[df].index)))\n",
        "\n",
        "\n",
        "if data_check != 0:\n",
        "    print('Uploading data to database...')\n",
        "    # send data\n",
        "    conn = psycopg2.connect(DB_CREDS)\n",
        "    cursor = conn.cursor()\n",
        "    for txtype in txtypes:\n",
        "        if txtype == 'balance':\n",
        "            tuples = [tuple(x) for x in dfs[txtype].to_numpy()]\n",
        "            cols = '\\\",\\\"'.join(list(dfs[txtype].columns))\n",
        "            # SQL query to execute\n",
        "            query1 = 'truncate financials.' + txtype\n",
        "            query2  = \"INSERT INTO %s(\\\"%s\\\") VALUES %%s\" % ('financials.'+ txtype, cols)\n",
        "            cursor = conn.cursor()\n",
        "            try:\n",
        "                cursor.execute(query1)\n",
        "                extras.execute_values(cursor, query2, tuples)\n",
        "                conn.commit()\n",
        "                print(\"Data succesfully uploaded.\")\n",
        "            except (Exception, psycopg2.DatabaseError) as error:\n",
        "                print(\"Error: %s\" % error)\n",
        "                conn.rollback()\n",
        "\n",
        "        else:\n",
        "            # Create a list of tuples from the dataframe values\n",
        "            tuples = [tuple(x) for x in dfs[txtype].to_numpy()]\n",
        "            # Comma-separated dataframe columns\n",
        "            cols = '\\\",\\\"'.join(list(dfs[txtype].columns))\n",
        "            # SQL query to execute\n",
        "            query  = \"INSERT INTO %s(\\\"%s\\\") VALUES %%s\" % ('financials.'+ txtype, cols)\n",
        "            cursor = conn.cursor()\n",
        "            try:\n",
        "                extras.execute_values(cursor, query, tuples)\n",
        "                conn.commit()\n",
        "                print(\"Data succesfully uploaded.\")\n",
        "            except (Exception, psycopg2.DatabaseError) as error:\n",
        "                print(\"Error: %s\" % error)\n",
        "                conn.rollback()\n",
        "\n",
        "    cursor.close()\n",
        "    conn.close()\n"
      ]
    }
  ],
  "metadata": {
    "colab": {
      "name": "Fingerprints.ipynb",
      "provenance": [],
      "toc_visible": true
    },
    "kernelspec": {
      "display_name": "Python 3.9.4 ('venv': venv)",
      "language": "python",
      "name": "python3"
    },
    "language_info": {
      "codemirror_mode": {
        "name": "ipython",
        "version": 3
      },
      "file_extension": ".py",
      "mimetype": "text/x-python",
      "name": "python",
      "nbconvert_exporter": "python",
      "pygments_lexer": "ipython3",
      "version": "3.10.5"
    },
    "vscode": {
      "interpreter": {
        "hash": "4aa44b0564df78348117c8c17d48e1fe9e7b7ece166b3cec577e63f32ef08406"
      }
    }
  },
  "nbformat": 4,
  "nbformat_minor": 2
}
