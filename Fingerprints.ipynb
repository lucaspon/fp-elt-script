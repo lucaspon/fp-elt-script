{
  "cells": [
    {
      "cell_type": "markdown",
      "metadata": {
        "id": "Pw0fBt1dR8wR"
      },
      "source": [
        "# Fingerprints DB ELT Script"
      ]
    },
    {
      "cell_type": "code",
      "execution_count": null,
      "metadata": {
        "id": "YnTUZ36GH5d2"
      },
      "outputs": [],
      "source": [
        "import requests\n",
        "import pandas as pd\n",
        "import psycopg2\n",
        "import os\n",
        "from dotenv import load_dotenv\n",
        "import json\n",
        "\n",
        "pd.set_option('display.max_rows', 150)"
      ]
    },
    {
      "cell_type": "markdown",
      "metadata": {},
      "source": [
        "# Input Addresses and Desired Data"
      ]
    },
    {
      "cell_type": "code",
      "execution_count": null,
      "metadata": {},
      "outputs": [],
      "source": [
        "# add relevant addresses below\n",
        "addresses = {}\n",
        "\n",
        "addresses['FP Main'] = '0xbc49de68bcbd164574847a7ced47e7475179c76b'\n",
        "addresses['FP OPEX'] = '0xc9044dd6162106edb5ece3af8a8e8b657b612e42'\n",
        "addresses['FP Treasury'] = '0xB28B71C694F53C7CfEA8dffDC85733237e0C981e'\n",
        "# addresses['HW Phase3'] = '0x45e77e6473676ab30ed64f3815fea7847d02d7b8'\n",
        "# addresses['HW Compensation'] = '0x7af805dcd0c18ed276f99d83197fe7a9d37b3c54'\n",
        "# addresses['HW Panels Competition'] = '0xf358e6b648579Bc43042B3cc7661dD5309EB06b3'\n",
        "# addresses['HW Avid Lines'] = '0x75a5B40075bc35bcD09f9d1f7d9c39Efd82B401c'\n",
        "# addresses['HW Early Operations'] = '0x0c41409b8e024b762f07b13da602409be37ac4d5'\n",
        "\n",
        "\n",
        "# don't mess with txtypes!\n",
        "txtypes = {}\n",
        "\n",
        "txtypes['normal'] = 'txlist'\n",
        "txtypes['erc20'] = 'tokentx'\n",
        "txtypes['nfts'] = 'tokennfttx'\n",
        "txtypes['internal'] = 'txlistinternal'\n",
        "txtypes['balance'] = 'balance'\n"
      ]
    },
    {
      "cell_type": "markdown",
      "metadata": {},
      "source": [
        "# Get Last Block from Database"
      ]
    },
    {
      "cell_type": "code",
      "execution_count": null,
      "metadata": {},
      "outputs": [],
      "source": [
        "from sqlalchemy import create_engine\n",
        "load_dotenv('.env')\n",
        "DB_CREDS = os.environ.get('DB_CREDS')\n",
        "engine = create_engine(DB_CREDS, echo=True)\n",
        "\n",
        "\n",
        "# get last block by txtype for each address from database\n",
        "sql = {}\n",
        "last_blocks = {}\n",
        "for txtype in txtypes:\n",
        "    sql[txtype] = {}\n",
        "    last_blocks[txtype] = {}\n",
        "    if txtype != 'balance':\n",
        "        for address in addresses.values():\n",
        "            sql[txtype][address] = f\"select max(\\\"blockNumber\\\")+1 as block_number from financials.{txtype} where \\\"from\\\" = lower('{address}') or \\\"to\\\" = lower('{address}');\"\n",
        "            last_blocks[txtype][address] = pd.read_sql_query(sql[txtype][address], con=engine).iloc[0]['block_number']\n",
        "\n",
        "last_blocks"
      ]
    },
    {
      "cell_type": "markdown",
      "metadata": {
        "id": "Bm7hr_izKTxQ"
      },
      "source": [
        "# Requests - Transactions"
      ]
    },
    {
      "cell_type": "code",
      "execution_count": null,
      "metadata": {
        "colab": {
          "base_uri": "https://localhost:8080/",
          "height": 421
        },
        "id": "DVQL0VNFIBQ3",
        "outputId": "bee82b31-11fd-40ac-8432-6c5d7b4df8e4"
      },
      "outputs": [],
      "source": [
        "ETHERSCAN_APIKEY = os.environ.get('ETHERSCAN_APIKEY')\n",
        "\n",
        "dfs = {}\n",
        "merge = []\n",
        "# get data from etherscan api\n",
        "for txtype in txtypes:\n",
        "    for address in addresses.values():\n",
        "        if txtype == 'balance': # if querying for balance, different payload\n",
        "            payload = {\n",
        "                'module': 'account',\n",
        "                'action': txtypes[txtype],\n",
        "                'address': address,\n",
        "                'tag': 'latest',\n",
        "                'apikey': ETHERSCAN_APIKEY\n",
        "            }\n",
        "            r = requests.get('https://api.etherscan.io/api', params=payload)\n",
        "            response = json.loads(r.text)['result']\n",
        "            merge.append(pd.DataFrame([{'address': address, 'balance': response}]))\n",
        "        else:\n",
        "            if last_blocks[txtype][address] == None: # if address is new, start block = 0\n",
        "                payload = {\n",
        "                    'module': 'account',\n",
        "                    'action': txtypes[txtype],\n",
        "                    'address': address,\n",
        "                    'startblock': '0',\n",
        "                    'endblock': '999999999',\n",
        "                    'sort': 'asc',\n",
        "                    'apikey': ETHERSCAN_APIKEY\n",
        "                }\n",
        "            else: # else, use last block from database\n",
        "                payload = {\n",
        "                    'module': 'account',\n",
        "                    'action': txtypes[txtype],\n",
        "                    'address': address,\n",
        "                    'startblock': last_blocks[txtype][address],\n",
        "                    'endblock': '999999999',\n",
        "                    'sort': 'asc',\n",
        "                    'apikey': ETHERSCAN_APIKEY\n",
        "                }\n",
        "            r = requests.get('https://api.etherscan.io/api', params=payload)\n",
        "            response = json.loads(r.text)['result']\n",
        "            merge.append(pd.DataFrame.from_dict(response))\n",
        "            \n",
        "\n",
        "    dfs[txtype] = pd.concat(merge) # store all merged data in a df\n",
        "    dfs[txtype] = dfs[txtype].drop_duplicates() # remove duplicates (txs between our own wallets)\n",
        "    merge = [] # reset merge array to store new txtype data\n"
      ]
    },
    {
      "cell_type": "code",
      "execution_count": null,
      "metadata": {},
      "outputs": [],
      "source": []
    },
    {
      "cell_type": "markdown",
      "metadata": {},
      "source": [
        "# Save to CSVs"
      ]
    },
    {
      "cell_type": "code",
      "execution_count": null,
      "metadata": {},
      "outputs": [],
      "source": [
        "# ----------------------------------------------------------------------------------------\n",
        "# export data to CSVs\n",
        "for df in dfs:\n",
        "    dfs[df].to_csv('outputs/' + df + '.csv', index=False)\n",
        "\n",
        "addressdf = pd.DataFrame({'name': addresses.keys(),'address': addresses.values()})\n",
        "addressdf.to_csv('outputs/addresses.csv', index=False)\n",
        "# ----------------------------------------------------------------------------------------"
      ]
    },
    {
      "cell_type": "markdown",
      "metadata": {},
      "source": [
        "# Send Data to Database"
      ]
    },
    {
      "cell_type": "code",
      "execution_count": null,
      "metadata": {},
      "outputs": [],
      "source": [
        "import psycopg2.extras as extras\n",
        "\n",
        "# calculate how many rows of new data are to be inserted\n",
        "print('New records:')\n",
        "for df in dfs:\n",
        "    data_check = 0\n",
        "    data_check += len(dfs[df].index)\n",
        "    print('-- ' + df + ' - ' + str(len(dfs[df].index)))\n",
        "\n",
        "\n",
        "if data_check != 0:\n",
        "    print('Uploading data to database...')\n",
        "    # send data\n",
        "    conn = psycopg2.connect(DB_CREDS)\n",
        "    cursor = conn.cursor()\n",
        "    for txtype in txtypes:\n",
        "        if txtype == 'balance':\n",
        "            tuples = [tuple(x) for x in dfs[txtype].to_numpy()]\n",
        "            cols = '\\\",\\\"'.join(list(dfs[txtype].columns))\n",
        "            # SQL query to execute\n",
        "            query1 = 'truncate financials.' + txtype\n",
        "            query2  = \"INSERT INTO %s(\\\"%s\\\") VALUES %%s\" % ('financials.'+ txtype, cols)\n",
        "            cursor = conn.cursor()\n",
        "            try:\n",
        "                cursor.execute(query1)\n",
        "                extras.execute_values(cursor, query2, tuples)\n",
        "                conn.commit()\n",
        "                print(\"Data succesfully uploaded.\")\n",
        "            except (Exception, psycopg2.DatabaseError) as error:\n",
        "                print(\"Error: %s\" % error)\n",
        "                conn.rollback()\n",
        "\n",
        "        else:\n",
        "            # Create a list of tuples from the dataframe values\n",
        "            tuples = [tuple(x) for x in dfs[txtype].to_numpy()]\n",
        "            # Comma-separated dataframe columns\n",
        "            cols = '\\\",\\\"'.join(list(dfs[txtype].columns))\n",
        "            # SQL query to execute\n",
        "            query  = \"INSERT INTO %s(\\\"%s\\\") VALUES %%s\" % ('financials.'+ txtype, cols)\n",
        "            cursor = conn.cursor()\n",
        "            try:\n",
        "                extras.execute_values(cursor, query, tuples)\n",
        "                conn.commit()\n",
        "                print(\"Data succesfully uploaded.\")\n",
        "            except (Exception, psycopg2.DatabaseError) as error:\n",
        "                print(\"Error: %s\" % error)\n",
        "                conn.rollback()\n",
        "\n",
        "    cursor.close()\n",
        "    conn.close()\n"
      ]
    }
  ],
  "metadata": {
    "colab": {
      "name": "Fingerprints.ipynb",
      "provenance": [],
      "toc_visible": true
    },
    "kernelspec": {
      "display_name": "Python 3.9.4 ('venv': venv)",
      "language": "python",
      "name": "python3"
    },
    "language_info": {
      "codemirror_mode": {
        "name": "ipython",
        "version": 3
      },
      "file_extension": ".py",
      "mimetype": "text/x-python",
      "name": "python",
      "nbconvert_exporter": "python",
      "pygments_lexer": "ipython3",
      "version": "3.10.5"
    },
    "vscode": {
      "interpreter": {
        "hash": "4aa44b0564df78348117c8c17d48e1fe9e7b7ece166b3cec577e63f32ef08406"
      }
    }
  },
  "nbformat": 4,
  "nbformat_minor": 2
}
